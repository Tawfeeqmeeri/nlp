{
 "cells": [
  {
   "cell_type": "code",
   "execution_count": 29,
   "metadata": {},
   "outputs": [],
   "source": [
    "filename = '/Users/Tawfeeq/programming/python/nlp/poe.txt'\n",
    "file = open(filename, 'rt')\n",
    "text = file.read()\n",
    "file.close()"
   ]
  },
  {
   "cell_type": "code",
   "execution_count": 30,
   "metadata": {},
   "outputs": [],
   "source": [
    "import string\n",
    "from nltk.corpus import stopwords\n",
    "from sklearn.feature_extraction.text import CountVectorizer"
   ]
  },
  {
   "cell_type": "code",
   "execution_count": 31,
   "metadata": {},
   "outputs": [
    {
     "name": "stdout",
     "output_type": "stream",
     "text": [
      "\n",
      "\n",
      "THE RAVEN.\n",
      "\n",
      "\n",
      "  Once upon a midnight dreary, while I pondered, weak and weary,\n",
      "  Over many a quaint\n"
     ]
    }
   ],
   "source": [
    "print(text[:100])"
   ]
  },
  {
   "cell_type": "code",
   "execution_count": 42,
   "metadata": {},
   "outputs": [
    {
     "name": "stdout",
     "output_type": "stream",
     "text": [
      "['\\n\\nTHE RAVEN.\\n\\n\\n  Once upon a midnight dreary, while I pondered, weak and weary,\\n  Over many a quaint and curious volume of forgotten lore--\\n  While I nodded, nearly napping, suddenly there came a tapping,\\n  As of some one gently rapping--rapping at my chamber door.\\n  \"\\'Tis some visitor,\" I muttered, \"tapping at my chamber door--\\n          Only this and nothing more.\"\\n\\n  Ah, distinctly I remember, it was in the bleak December,\\n  And each separate dying ember wrought its ghost upon the floor.\\n  Eagerly I wished the morrow;--vainly I had sought to borrow\\n  From my books surcease of sorrow--sorrow for the lost Lenore--\\n  For the rare and radiant maiden whom the angels name Lenore--\\n          Nameless here for evermore.\\n\\n  And the silken sad uncertain rustling of each purple curtain\\n  Thrilled me--filled me with fantastic terrors never felt before;\\n  So that now, to still the beating of my heart, I stood repeating\\n  \"\\'Tis some visitor entreating entrance at my chamber door--\\n  Some late visitor entreating entrance at my chamber door;--\\n      This it is and nothing more.\"\\n\\n  Presently my soul grew stronger; hesitating then no longer,\\n  \"Sir,\" said I, \"or Madam, truly your forgiveness I implore;\\n  But the fact is I was napping, and so gently you came rapping,\\n  And so faintly you came tapping--tapping at my chamber door,\\n  That I scarce was sure I heard you\"--here I opened wide the door:--\\n        Darkness there and nothing more.\\n\\n  Deep into that darkness peering, long I stood there wondering,\\n    fearing,\\n  Doubting, dreaming dreams no mortal ever dared to dream before;\\n  But the silence was unbroken, and the darkness gave no token,\\n  And the only word there spoken was the whispered word, \"Lenore!\"\\n  This I whispered, and an echo murmured back the word, \"Lenore!\"\\n        Merely this and nothing more.\\n\\n  Back into the chamber turning, all my soul within me burning,\\n  Soon I heard again a tapping, somewhat louder than before.\\n  \"Surely,\" said I, \"surely that is something at my window lattice;\\n  Let me see, then, what thereat is, and this mystery explore--\\n  Let my heart be still a moment, and this mystery explore;--\\n      \\'Tis the wind and nothing more.\"\\n\\n  Open here I flung the shutter, when, with many a flirt and flutter,\\n  In there stepped a stately Raven of the saintly days of yore;\\n  Not the least obeisance made he: not an instant stopped or stayed he;\\n  But, with mien of lord or lady, perched above my chamber door--\\n  Perched upon a bust of Pallas just above my chamber door--\\n      Perched, and sat, and nothing more.\\n\\n  Then this ebony bird beguiling my sad fancy into smiling,\\n  By the grave and stern decorum of the countenance it wore,\\n  \"Though thy crest be shorn and shaven, thou,\" I said, \"art sure no\\n    craven,\\n  Ghastly grim and ancient Raven wandering from the Nightly shore--\\n  Tell me what thy lordly name is on the Night\\'s Plutonian shore!\"\\n        Quoth the Raven, \"Nevermore.\"\\n\\n  Much I marvelled this ungainly fowl to hear discourse so plainly,\\n  Though its answer little meaning--little relevancy bore;\\n  For we cannot help agreeing that no living human being\\n  Ever yet was blessed with seeing bird above his chamber door--\\n  Bird or beast upon the sculptured bust above his chamber door,\\n        With such name as \"Nevermore.\"\\n\\n  But the Raven, sitting lonely on that placid bust, spoke only\\n  That one word, as if his soul in that one word he did outpour.\\n  Nothing further then he uttered--not a feather then he fluttered--\\n  Till I scarcely more than muttered, \"Other friends have flown before--\\n  On the morrow _he_ will leave me, as my hopes have flown before.\"\\n        Then the bird said, \"Nevermore.\"\\n\\n  Startled at the stillness broken by reply so aptly spoken,\\n  \"Doubtless,\" said I, \"what it utters is its only stock and store,\\n  Caught from some unhappy master whom unmerciful Disaster\\n  Followed fast and followed faster till his songs one burden bore--\\n  Till the dirges of his Hope the melancholy burden bore\\n      Of \\'Never--nevermore.\\'\"\\n\\n  But the Raven still beguiling all my sad soul into smiling,\\n  Straight I wheeled a cushioned seat in front of bird and bust and\\n    door;\\n  Then, upon the velvet sinking, I betook myself to linking\\n  Fancy unto fancy, thinking what this ominous bird of yore--\\n  What this grim, ungainly, ghastly, gaunt, and ominous bird of yore\\n      Meant in croaking \"Nevermore.\"\\n\\n  This I sat engaged in guessing, but no syllable expressing\\n  To the fowl whose fiery eyes now burned into my bosom\\'s core;\\n  This and more I sat divining, with my head at ease reclining\\n  On the cushion\\'s velvet lining that the lamp-light gloated o\\'er,\\n  But whose velvet violet lining with the lamp-light gloating o\\'er,\\n        _She_ shall press, ah, nevermore!\\n\\n  Then, methought, the air grew denser, perfumed from an unseen censer\\n  Swung by Seraphim whose foot-falls tinkled on the tufted floor.\\n  \"Wretch,\" I cried, \"thy God hath lent thee--by these angels he hath\\n    sent thee\\n  Respite--respite aad nepenthé from thy memories of Lenore!\\n  Quaff, oh quaff this kind nepenthé, and forget this lost Lenore!\"\\n        Quoth the Raven, \"Nevermore.\"\\n\\n  \"Prophet!\" said I, \"thing of evil!--prophet still, if bird or devil!--\\n  Whether Tempter sent, or whether tempest tossed thee here ashore,\\n  Desolate yet all undaunted, on this desert land enchanted--\\n  On this home by Horror haunted--tell me truly, I implore--\\n  Is there--_is_ there balm in Gilead?--tell me--tell me, I implore!\"\\n      Quoth the Raven, \"Nevermore.\"\\n\\n  \"Prophet!\" said I, \"thing of evil!--prophet still, if bird or devil!\\n  By that Heaven that bends above us--by that God we both adore--\\n  Tell this soul with sorrow laden if, within the distant Aidenn,\\n  It shall clasp a sainted maiden whom the angels name Lenore--\\n  Clasp a rare and radiant maiden whom the angels name Lenore.\"\\n        Quoth the Raven, \"Nevermore.\"\\n\\n  \"Be that word our sign of parting, bird or fiend!\" I shrieked,\\n    upstarting--\\n  \"Get thee back into the tempest and the Night\\'s Plutonian shore!\\n  Leave no black plume as a token of that lie thy soul hath spoken!\\n  Leave my loneliness unbroken!--quit the bust above my door!\\n  Take thy beak from out my heart, and take thy form from off my door!\"\\n      Quoth the Raven, \"Nevermore.\"\\n\\n  And the Raven, never flitting, still is sitting, still is sitting\\n  On the pallid bust of Pallas just above my chamber door;\\n  And his eyes have all the seeming of a demon\\'s that is dreaming,\\n  And the lamp-light o\\'er him streaming throws his shadow on the floor;\\n  And my soul from out that shadow that lies floating on the floor\\n      Shall be lifted--nevermore!\\n\\n\\nPublished, 1845.\\n\\n\\n\\n\\n\\n       ', '       ', '       ', '       ', '       ', '\\n\\n\\n\\n\\n\\nTHE BELLS,\\n\\n\\nI.\\n\\n  Hear the sledges with the bells--\\n  Silver bells!\\n  What a world of merriment their melody foretells!\\n  How they tinkle, tinkle, tinkle,\\n  In their icy air of night!\\n  While the stars, that oversprinkle\\n  All the heavens, seem to twinkle\\n  With a crystalline delight;\\n  Keeping time, time, time,\\n  In a sort of Runic rhyme,\\n  To the tintinnabulation that so musically wells\\n  From the bells, bells, bells, bells,\\n  Bells, bells, bells--\\n  From the jingling and the tinkling of the bells.\\n\\n\\nII.\\n\\n  Hear the mellow wedding bells,\\n  Golden bells!\\n  What a world of happiness their harmony foretells!\\n  Through the balmy air of night\\n  How they ring out their delight!\\n  From the molten golden-notes,\\n  And all in tune,\\n  What a liquid ditty floats\\n  To the turtle-dove that listens, while she gloats\\n  On the moon!\\n  Oh, from out the sounding cells,\\n  What a gush of euphony voluminously wells!\\n  How it swells!\\n  How it dwells\\n  On the future! how it tells\\n  Of the rapture that impels\\n  To the swinging and the ringing\\n  Of the bells, bells, bells,\\n  Of the bells, bells, bells, bells,\\n  Bells, bells, bells--\\n  To the rhyming and the chiming of the bells!\\n\\n\\nIII.\\n\\n  Hear the loud alarum bells--\\n  Brazen bells!\\n  What a tale of terror now their turbulency tells!\\n  In the startled ear of night\\n  How they scream out their affright!\\n  Too much horrified to speak,\\n  They can only shriek, shriek,\\n  Out of tune,\\n  In a clamorous appealing to the mercy of the fire,\\n  In a mad expostulation with the deaf and frantic fire\\n  Leaping higher, higher, higher,\\n  With a desperate desire,\\n  And a resolute endeavor\\n  Now--now to sit or never,\\n  By the side of the pale-faced moon.\\n  Oh, the bells, bells, bells!\\n  What a tale their terror tells\\n  Of Despair!\\n  How they clang, and clash, and roar!\\n  What a horror they outpour\\n  On the bosom of the palpitating air!\\n  Yet the ear it fully knows,\\n  By the twanging,\\n  And the clanging,\\n  How the danger ebbs and flows;\\n  Yet the ear distinctly tells,\\n  In the jangling,\\n  And the wrangling,\\n  How the danger sinks and swells,\\n  By the sinking or the swelling in the anger of the bells--\\n  Of the bells--\\n  Of the bells, bells, bells, bells,\\n  Bells, bells, bells--\\n  In the clamor and the clangor of the bells!\\n\\n\\nIV.\\n\\n  Hear the tolling of the bells--\\n  Iron bells!\\n  What a world of solemn thought their monody compels!\\n  In the silence of the night,\\n  How we shiver with affright\\n  At the melancholy menace of their tone!\\n  For every sound that floats\\n  From the rust within their throats\\n     Is a groan.\\n  And the people--ah, the people--\\n  They that dwell up in the steeple.\\n      All alone,\\n  And who toiling, toiling, toiling,\\n    In that muffled monotone,\\n  Feel a glory in so rolling\\n    On the human heart a stone--\\n  They are neither man nor woman--\\n  They are neither brute nor human--\\n      They are Ghouls:\\n  And their king it is who tolls;\\n  And he rolls, rolls, rolls,\\n           Rolls\\n  A pæan from the bells!\\n  And his merry bosom swells\\n  With the pæan of the bells!\\n  And he dances, and he yells;\\n  Keeping time, time, time,\\n  In a sort of Runic rhyme,\\n  To the pæan of the bells--\\n      Of the bells:\\n  Keeping time, time, time,\\n  In a sort of Runic rhyme,\\n    To the throbbing of the bells--\\n  Of the bells, bells, bells--\\n    To the sobbing of the bells;\\n  Keeping time, time, time,\\n    As he knells, knells, knells,\\n  In a happy Runic rhyme,\\n  To the rolling of the bells--\\n  Of the bells, bells, bells--\\n  To the tolling of the bells,\\n  Of the bells, bells, bells, bells,\\n    Bells, bells, bells--\\n  To the moaning and the groaning of the bells.\\n\\n\\n\\n1849.\\n\\n\\n\\n\\n\\n       ', '       ', '       ', '       ', '       ']\n"
     ]
    }
   ],
   "source": [
    "# split file into documents\n",
    "split_text = text.split('*')\n",
    "documents = [work for work in split_text]\n",
    "print(documents[:10])"
   ]
  },
  {
   "cell_type": "code",
   "execution_count": null,
   "metadata": {},
   "outputs": [],
   "source": []
  }
 ],
 "metadata": {
  "kernelspec": {
   "display_name": "Python 3",
   "language": "python",
   "name": "python3"
  },
  "language_info": {
   "codemirror_mode": {
    "name": "ipython",
    "version": 3
   },
   "file_extension": ".py",
   "mimetype": "text/x-python",
   "name": "python",
   "nbconvert_exporter": "python",
   "pygments_lexer": "ipython3",
   "version": "3.7.0"
  }
 },
 "nbformat": 4,
 "nbformat_minor": 2
}
